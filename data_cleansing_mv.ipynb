{
 "cells": [
  {
   "cell_type": "code",
   "execution_count": 2,
   "metadata": {},
   "outputs": [],
   "source": [
    "import pandas as pd"
   ]
  },
  {
   "cell_type": "code",
   "execution_count": 61,
   "metadata": {},
   "outputs": [],
   "source": [
    "# Cargar el dataset\n",
    "df = pd.read_csv('most_valuable_teams.csv', low_memory=False)\n",
    "\n",
    "# Convertir el campo 'Age' a enteros\n",
    "df['Age'] = df['Age'].round().astype(int)"
   ]
  },
  {
   "cell_type": "code",
   "execution_count": 62,
   "metadata": {},
   "outputs": [
    {
     "data": {
      "text/plain": [
       "0    1050.00\n",
       "1     997.75\n",
       "2     937.25\n",
       "3     882.50\n",
       "4     879.50\n",
       "Name: Market_value, dtype: float64"
      ]
     },
     "execution_count": 62,
     "metadata": {},
     "output_type": "execute_result"
    }
   ],
   "source": [
    "# Función para convertir los valores del mercado en formato numérico\n",
    "def convert_market_value(value):\n",
    "    if 'bn' in value:\n",
    "        return float(value.replace('€', '').replace('bn', '')) * 1000 \n",
    "    elif 'm' in value:\n",
    "        return float(value.replace('€', '').replace('m', ''))  \n",
    "    else:\n",
    "        return float(value.replace('€', ''))  \n",
    "\n",
    "df['Market_value'] = df['Market_value'].apply(convert_market_value)\n",
    "\n",
    "df['Market_value'].head()"
   ]
  },
  {
   "cell_type": "code",
   "execution_count": 63,
   "metadata": {},
   "outputs": [
    {
     "data": {
      "text/plain": [
       "0    45.75\n",
       "1    28.51\n",
       "2    33.47\n",
       "3    32.69\n",
       "4    32.57\n",
       "Name: Market_value_of_players, dtype: float64"
      ]
     },
     "execution_count": 63,
     "metadata": {},
     "output_type": "execute_result"
    }
   ],
   "source": [
    "# Función para convertir el valor de mercado de los jugadores en formato numérico\n",
    "def convert_value(value):\n",
    "    return float(value.replace('€', '').replace('m', ''))\n",
    "\n",
    "df['Market_value_of_players'] = df['Market_value_of_players'].apply(convert_value)\n",
    "\n",
    "# Verificar que los valores se han convertido correctamente\n",
    "df['Market_value_of_players'].head()"
   ]
  },
  {
   "cell_type": "code",
   "execution_count": 64,
   "metadata": {},
   "outputs": [
    {
     "data": {
      "text/plain": [
       "0    988.0\n",
       "1    889.0\n",
       "2    850.0\n",
       "3    816.0\n",
       "4    810.5\n",
       "Name: MV_Top_18_players, dtype: float64"
      ]
     },
     "execution_count": 64,
     "metadata": {},
     "output_type": "execute_result"
    }
   ],
   "source": [
    "# Aplicar la función de limpieza a la columna 'MV_Top_18_players'\n",
    "df['MV_Top_18_players'] = df['MV_Top_18_players'].apply(convert_value)\n",
    "\n",
    "# Verificar que los valores se han convertido correctamente\n",
    "df['MV_Top_18_players'].head()"
   ]
  },
  {
   "cell_type": "code",
   "execution_count": 65,
   "metadata": {},
   "outputs": [
    {
     "data": {
      "text/plain": [
       "0    93.9\n",
       "1    89.1\n",
       "2    90.7\n",
       "3    92.5\n",
       "4    92.2\n",
       "Name: Share_of_MV, dtype: float64"
      ]
     },
     "execution_count": 65,
     "metadata": {},
     "output_type": "execute_result"
    }
   ],
   "source": [
    "# Función para convertir la columna de porcentajes a numérico\n",
    "df['Share_of_MV'] = df['Share_of_MV'].str.replace('%', '').astype(float)\n",
    "\n",
    "# Verificar que los porcentajes se han convertido correctamente\n",
    "df['Share_of_MV'].head()"
   ]
  },
  {
   "cell_type": "code",
   "execution_count": 66,
   "metadata": {},
   "outputs": [
    {
     "data": {
      "text/plain": [
       "Club                       0\n",
       "Competition                0\n",
       "Age                        0\n",
       "Squad_size                 0\n",
       "Market_value               0\n",
       "Market_value_of_players    0\n",
       "MV_Top_18_players          0\n",
       "Share_of_MV                0\n",
       "dtype: int64"
      ]
     },
     "execution_count": 66,
     "metadata": {},
     "output_type": "execute_result"
    }
   ],
   "source": [
    "# Revisar la cantidad de valores nulos por columna\n",
    "df.isnull().sum()\n",
    "\n",
    "# Eliminar filas con valores nulos (si son pocos) o tomar alguna acción dependiendo de la columna\n",
    "df.dropna(inplace=True)\n",
    "\n",
    "# Verificar nuevamente la cantidad de valores nulos\n",
    "df.isnull().sum()"
   ]
  },
  {
   "cell_type": "code",
   "execution_count": 77,
   "metadata": {},
   "outputs": [],
   "source": [
    "# Guardar el dataset limpio\n",
    "df.to_csv('most_valuable_teams_cleaned.csv', index=False)"
   ]
  }
 ],
 "metadata": {
  "kernelspec": {
   "display_name": "data",
   "language": "python",
   "name": "python3"
  },
  "language_info": {
   "codemirror_mode": {
    "name": "ipython",
    "version": 3
   },
   "file_extension": ".py",
   "mimetype": "text/x-python",
   "name": "python",
   "nbconvert_exporter": "python",
   "pygments_lexer": "ipython3",
   "version": "3.12.6"
  }
 },
 "nbformat": 4,
 "nbformat_minor": 2
}
